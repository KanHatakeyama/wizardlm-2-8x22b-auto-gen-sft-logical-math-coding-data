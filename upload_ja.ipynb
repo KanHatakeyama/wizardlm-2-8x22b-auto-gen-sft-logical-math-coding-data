{
 "cells": [
  {
   "cell_type": "code",
   "execution_count": 6,
   "metadata": {},
   "outputs": [],
   "source": [
    "from datasets import load_dataset\n",
    "import json\n",
    "import glob\n",
    "\n",
    "\n"
   ]
  },
  {
   "cell_type": "code",
   "execution_count": 7,
   "metadata": {},
   "outputs": [
    {
     "name": "stdout",
     "output_type": "stream",
     "text": [
      "284303\n",
      "loading  out_translated_ja/model_20240806180422_480970.jsonl\n",
      "loading  out_translated_ja/model_20240805170939_700482.jsonl\n",
      "loading  out_translated_ja/model_20240808083503_325341.jsonl\n",
      "loading  out_translated_ja/model_20240805172715_428058.jsonl\n",
      "loading  out_translated_ja/model_20240806083848_993369.jsonl\n",
      "loading  out_translated_ja/model_20240807083759_574975.jsonl\n",
      "loading  out_translated_ja/model_20240807083757_370222.jsonl\n",
      "loading  out_translated_ja/model_20240805192242_322542.jsonl\n",
      "loading  out_translated_ja/model_20240807083802_764831.jsonl\n",
      "loading  out_translated_ja/model_20240807155409_738138.jsonl\n",
      "loading  out_translated_ja/model_20240807083756_343521.jsonl\n",
      "loading  out_translated_ja/model_20240806180417_633946.jsonl\n",
      "loading  out_translated_ja/model_20240807155412_900171.jsonl\n",
      "loading  out_translated_ja/model_20240806180407_260810.jsonl\n",
      "loading  out_translated_ja/model_20240807155414_501782.jsonl\n",
      "loading  out_translated_ja/model_20240806080138_964969.jsonl\n",
      "loading  out_translated_ja/model_20240805172747_227318.jsonl\n",
      "loading  out_translated_ja/model_20240806134350_421887.jsonl\n",
      "loading  out_translated_ja/model_20240808083458_378884.jsonl\n",
      "loading  out_translated_ja/model_20240805171802_572384.jsonl\n",
      "loading  out_translated_ja/model_20240808083444_40985.jsonl\n",
      "loading  out_translated_ja/model_20240806083901_8122.jsonl\n",
      "loading  out_translated_ja/model_20240805192212_963056.jsonl\n",
      "loading  out_translated_ja/model_20240806180436_90342.jsonl\n",
      "loading  out_translated_ja/model_20240806180427_409621.jsonl\n",
      "loading  out_translated_ja/model_20240806083920_793061.jsonl\n",
      "loading  out_translated_ja/model_20240805170338_615541.jsonl\n",
      "loading  out_translated_ja/model_20240806083856_89893.jsonl\n",
      "loading  out_translated_ja/model_20240807155411_89976.jsonl\n",
      "loading  out_translated_ja/model_20240808083439_660708.jsonl\n",
      "loading  out_translated_ja/model_20240805171631_471878.jsonl\n",
      "loading  out_translated_ja/model_20240807155408_71816.jsonl\n",
      "loading  out_translated_ja/model_20240806180431_152871.jsonl\n",
      "loading  out_translated_ja/model_20240808083453_803659.jsonl\n",
      "loading  out_translated_ja/model_20240807083801_883089.jsonl\n",
      "loading  out_translated_ja/model_20240806180412_326955.jsonl\n",
      "loading  out_translated_ja/model_20240807083800_867486.jsonl\n",
      "loading  out_translated_ja/model_20240807083758_186239.jsonl\n",
      "loading  out_translated_ja/model_20240806083932_308912.jsonl\n",
      "loading  out_translated_ja/model_20240808083430_24086.jsonl\n",
      "loading  out_translated_ja/model_20240807155413_464132.jsonl\n",
      "loading  out_translated_ja/model_20240806083927_47621.jsonl\n",
      "loading  out_translated_ja/en_ja_dict.jsonl\n",
      "loading  out_translated_ja/model_20240807155416_632089.jsonl\n",
      "loading  out_translated_ja/model_20240808083509_650286.jsonl\n",
      "loading  out_translated_ja/model_20240806083937_171189.jsonl\n",
      "loading  out_translated_ja/model_20240805191313_134075.jsonl\n",
      "loading  out_translated_ja/model_20240805170638_473565.jsonl\n",
      "loading  out_translated_ja/model_20240808083449_827751.jsonl\n",
      "loading  out_translated_ja/model_20240807083804_341075.jsonl\n"
     ]
    }
   ],
   "source": [
    "\n",
    "ds_name = \"kanhatakeyama/wizardlm8x22b-logical-math-coding-sft\"\n",
    "\n",
    "ds = load_dataset(ds_name, split=\"train\")\n",
    "print(len(ds))\n",
    "\n",
    "def load_dict():\n",
    "    en_ja_dict = {}\n",
    "    for en_ja_dict_path in glob.glob(\"out_translated_ja/*.jsonl\"):\n",
    "        print(\"loading \", en_ja_dict_path)\n",
    "        with open(en_ja_dict_path) as f:\n",
    "            lines = f.readlines()\n",
    "        for line in lines:\n",
    "            d = json.loads(line)\n",
    "            en_ja_dict[list(d.keys())[0]] = list(d.values())[0]\n",
    "\n",
    "    return en_ja_dict\n",
    "\n",
    "\n",
    "en_ja_dict = load_dict()"
   ]
  },
  {
   "cell_type": "code",
   "execution_count": 8,
   "metadata": {},
   "outputs": [],
   "source": [
    "noise_words=\"\"\"\n",
    "[原文終了]\n",
    "[/翻訳終了]\n",
    "[英文終了]\n",
    "[/英語原文]\n",
    "[/英語終了]\n",
    "[/原文終了]\n",
    "[/日本語の翻訳]\n",
    "[/文章終了]\n",
    "[/翻訳]\n",
    "[英語原文完了]\n",
    "[英語原文終わり]\n",
    "[英語原文終了]\n",
    "[英語終了]\n",
    "[英文書く]\n",
    "[解答]\n",
    "[解答例]\n",
    "[回答なし]\n",
    "[原文の英語]\n",
    "[原文の終了]\n",
    "[日本語の文章]\n",
    "[日本語の翻訳]\n",
    "[日本語の翻訳完了]\n",
    "[日本語に変換しました]\n",
    "[日本語翻訳完了]\n",
    "[翻訳完了]\n",
    "[翻訳終了]\n",
    "[yaml構成ファイルの内容]\n",
    "[日本語の翻訳終了]\n",
    "[英語原文の終了]\n",
    "[英語原文の終了]\n",
    "[原文の英語はわかりませんでしたが、日本語で提供された内容をもとに翻訳しました。]\n",
    "[完]\n",
    "[原文終わり]\n",
    "[プログラム終了]\n",
    "[原文の英語表記なし]\n",
    "[日本語終了]\n",
    "[英語原文の終了]\n",
    "[原文の英語部分]\n",
    "---\n",
    "[英原文終了]\n",
    "[英語原文の順序と内容を維持しながら自然な日本語に変換しました]\n",
    "[/english]\n",
    "[原文の英語はこちらです]\n",
    "[原文の日本語翻訳]\n",
    "[原文の英語は省略します]\n",
    "[英語原文の終了部分]\n",
    "[英語原文が終了しました]\n",
    "[原文の終端]\n",
    "[原文の英語は省略していますが、内容は同じです。]\n",
    "[英語原文が終了しました]\n",
    "[英文書終わり]\n",
    "[英語原文が終了しました。]\n",
    "[原文の英語が終了しました]\n",
    "質問の終わり\n",
    "[邦語翻訳完了]\n",
    "[原文の英語を終了]\n",
    "[Pythonコードの出力なし]\n",
    "\"\"\"\n",
    "noise_words=[x for x in noise_words.split(\"\\n\") if x]\n",
    "\n",
    "def clean_content(text):\n",
    "    for noise_word in noise_words:\n",
    "        text = text.replace(noise_word, \"\")\n",
    "    return text.strip()"
   ]
  },
  {
   "cell_type": "code",
   "execution_count": 9,
   "metadata": {},
   "outputs": [],
   "source": [
    "black_list=\"\"\"sssssssssssssssssssssssss\n",
    "大統領のお気に入りの数より一桁少な\n",
    " mentioned as being disqualified by other candidates.\n",
    " の学生の左隣り（ヒント5）。\n",
    " 32 × 2 = 64 （\n",
    " - 円 7\n",
    "        ;;\n",
    "updateunsuccessfulattmassuccessful\n",
    "efaultthrowablerequiredexception;\n",
    "upportedstronglysupported\n",
    "encoderDecoderArchitectureBasedSeq2seqClass\n",
    "lse,)(False,)(False,)(False,)(False,)(F\n",
    "\\cdot 3^2 + \\pi \\cdot 3 \\cdot 3\\sqrt{5} \\]\n",
    "\\[ 2L^2 - 2\n",
    "したがって、どの扉を選べばよいかというと…\n",
    "129^\\circ, 129^\\circ, 129^\\circ, 129^\\circ, 129^\\circ, 129^\\c\n",
    "に入りの数は、大統領のお気に入りの数より一桁少な\n",
    "きな言語として持つ二人の学生：第1行および第3行、第1列\n",
    "delattr(self,'d{}').format(cnt)\n",
    "32 × 2 = 64 （\n",
    "ORGPAYMENTSYSTEMWEBHOOKCALLBACKURL=ORGPSYWSC_URL\n",
    "三角形は正方形の後に来て、水曜日に翻訳を持ち\n",
    "        substrings=[]\n",
    "\n",
    "expectationssurpassedexceedingl\n",
    "dexYticalxticedeft,_indexYticalxticedeft,_indexYticalxticedef\n",
    "updateAllListsAfterEachOperation\n",
    "StefanBolzmannLawsOfThermoDynamics\n",
    "ocus juust ui purly naadiynge a nov piotyon und maintenance duhm axium umpropiri.\n",
    "lse:return False;else:return False;else:return False;else:return False;else:return False;else:return\n",
    "seventeenthmeanvariancecomputationalfeats = meanvarestablishmentcomp\n",
    "\\[ P(D | T+) = \\frac{\\frac{0.99}{10,000}}{\\frac{0.99}{10,000} + \\frac{9999}{10,\n",
    " e,'zjazzboogie':None,'zjellyfish':None,'zkarma':None,'zkebab':None,'zkhaki':None,'zkitten':None,'zkw\n",
    "articiallities = SpecificiesdPaticuliarlyPartialities\n",
    "ServiceContinuesUntilAllTaskComplete\n",
    "polyalgebraicgeometry=projectivevariety\n",
    "eueCapacityPerBlockingThread=queuesizeperblockingthre\n",
    "thousandfortyhirth_potenntiallest_largest_group\n",
    "specifiedspecificationdetailedspecifi\n",
    "eyworksoftwareapplicationdevelopmentsource\n",
    "nchronized;del @GuardedBy;del @Enclosing;del @Embeddable;del @Rec\n",
    "constuctionmodifiervalueoption\n",
    "True, True, True, True, True, True, True, True, True, T\n",
    "on 2, Python 3, Python 2, Python 3, Python 2, Python 3, Python 2, Python 3, P\n",
    "lyfilledoutmostlysmallfullyfilledlargestpossiblesma\n",
    "virgluminouscohesivesolidaritymillionil\n",
    "rviceWorkerRegistrationOption\n",
    "OfSizeHighMinLowPlusOneToHighe\n",
    "e False;else False;else False;else False;else Fal\n",
    ", U, U, L, L, D, D, R, R, U, U, L, L, D, D, R, R, \n",
    "higherratioexceedspredefinedli\n",
    " = \\frac{10 \\pm \\sqrt{306 / 5}} {2} \\\n",
    "= 3月15日 + 27日\n",
    "\"+\",\"+\",\"+\",\"+\",\"+\",\"+\",\"+\",\"+\",\"+\n",
    "speculationaboutpossiblefutu\n",
    "'down', 'right', 'down', 'right', 'down', 'right', 'down', 'righ\n",
    "ndefinstructionsmethodsdetailedtestreports\n",
    "4            5              6               7\n",
    "zzzzzzzzzzzzzzzzzzzzzzzzzzzzzz\n",
    "onehundredanddd\n",
    "    }\\n    }\\n    }\n",
    "pertyentriesbytypetablecolumnequivalentclassmap\n",
    "','(','(','(','(','(','(','(','(','('\n",
    "{}, {}, {}, {}, {}, {}, {}, {}, {}, {}, {}, {}, {}, {},\n",
    "xtyFifthsixtySixthlo\n",
    "ortestUniqueIdentifierThatHasTenOrElevenDigi\n",
    "                                                                          \n",
    "  | | | | | | | | | | | | | | | | | | | | | | | | | | | | | | | | | | | | | | | | | | | | | | | | | |\n",
    "updatealllistsaftereachoperat\n",
    "edsignatureschemecriteriaduringverifi\n",
    "pportedstronglysuppor\n",
    "pportedstronglysuppor\n",
    "t=s; s=r; r=q; q=o; o=n; n=m; m=l; l=k; k=\n",
    "icalxticedeft,_indexYticalxticedeft,_\n",
    "rArchitectureBasedSeq2seqClas\n",
    "debookmarkssection=includeBo\n",
    "resultsdisplayeda\n",
    ", [], [], [], [], [], [], [], [\n",
    "entsourcesystemmixincharact\n",
    "lse:break;for _ in counter*(len(pairs)-1));return;else:break;for\n",
    "int(func.codegen());exit();]([[[0]], [0]\n",
    "fivehundredandthreematc\n",
    "','-1','-1','-1','-1','-1','-1','-1','-1','-1','-1','-1','\n",
    "'',''],['',''],['',''],['',''],['',''],['\n",
    "daccountmanagements,receivedetermnpasswordexpirati\n",
    "s 11}{10 \\times 9 \\times 8 \\times 7 \\times 6 \\tim\n",
    "], ['',''], ['',''], ['',''], [\n",
    "極、恒河沙、阿僧祇、那由多、不可思議、無量大数, with no spaces between \n",
    "ectationssurpassedexceedi\n",
    "            o=[]\n",
    "ssssssssssssssssssssssssssssssssssssssssssss\n",
    "\"\"\"\n",
    "black_list=[x for x in black_list.split(\"\\n\") if x]\n",
    "black_list.append(\"これで一貫した結果が得られました。\\n\\n最終的な解答は次の通りです：\")\n",
    "black_list.append(\"最終的に簡約された形では：\\n\\n\\\\[ 0 =\")\n",
    "black_list.append(\"最終の正しい分配は以下の通りです：\\n- アリス：Java、ソーダ\\n- バブ\")\n",
    "black_list.append(\"：スニカーで、ブルースーツはない。\\n\\nデランが\")\n",
    "black_list.append(\"\\n    \\n    \\n    \\n    \\n    \\n    \\n    \\n    \\n    \\n    \\n    \")\n",
    "black_list.append(', [\"\"], [\"\"], [\"\"], [\"\"], [\"\"], [\"\"], [')\n",
    "black_list.append(',\"#\",\"#\",\"#\",\"#\",\"#\",\"#\",\"#\",\"#\",\"')\n",
    "black_list.append('        ;;\\n        ;;')"
   ]
  },
  {
   "cell_type": "code",
   "execution_count": 10,
   "metadata": {},
   "outputs": [],
   "source": [
    "\n",
    "from collections import Counter\n",
    "text = \"こんにちは｡[] 元気ですか?? 1+1=2です｡1+2=2です｡1+1=2\"\n",
    "text=\"| | | | | | | | | | | | | | | | | | | | | | \"\n",
    "\n",
    "def contain_too_repeated_phrases(text,threshold=35):\n",
    "    # 区切り文字のリスト\n",
    "    delimiters = [\"\\n\", \"。\", \".\", \"、\", \" \",\",\"]\n",
    "\n",
    "    # 初期のフレーズリストを作成\n",
    "    phrases = [text]\n",
    "\n",
    "    # 各区切り文字で分割を繰り返す\n",
    "    for delimiter in delimiters:\n",
    "        next_level_phrases = []\n",
    "        for phrase in phrases:\n",
    "            next_level_phrases.extend(phrase.split(delimiter))\n",
    "        phrases = next_level_phrases\n",
    "\n",
    "\n",
    "    phrases=[i for i in phrases if i]\n",
    "    counter=Counter(phrases)\n",
    "    if max(counter.values())>threshold:\n",
    "        return True\n",
    "    else:\n",
    "        return False"
   ]
  },
  {
   "cell_type": "code",
   "execution_count": 11,
   "metadata": {},
   "outputs": [],
   "source": [
    "import re\n",
    "\n",
    "def contain_too_log_alphabets(text,threshold=35):\n",
    "    # アルファベットが連続する部分文字列をすべて抽出\n",
    "    sequences = re.findall(r'[A-Za-z=_]+', text)\n",
    "    # 最長の部分文字列を見つける\n",
    "    longest_sequence = max(sequences, key=len) if sequences else ''\n",
    "\n",
    "    if len(longest_sequence) > threshold:\n",
    "        return True\n",
    "    else:\n",
    "        return False\n"
   ]
  },
  {
   "cell_type": "code",
   "execution_count": 12,
   "metadata": {},
   "outputs": [
    {
     "name": "stderr",
     "output_type": "stream",
     "text": [
      " 23%|██▎       | 65501/284303 [00:20<01:35, 2302.02it/s]"
     ]
    }
   ],
   "source": [
    "# %%\n",
    "reject_list=[]\n",
    "from tqdm import tqdm\n",
    "content_list = []\n",
    "for r in tqdm(ds):\n",
    "    add_flag=True\n",
    "    translated_messages=[]\n",
    "    for messages in r[\"messages\"]:\n",
    "        en_content=messages[\"content\"]\n",
    "        if en_content in en_ja_dict:\n",
    "            content=en_ja_dict[en_content]\n",
    "        else:\n",
    "            add_flag=False\n",
    "            break\n",
    "\n",
    "        content=clean_content(content)\n",
    "        if contain_too_log_alphabets(content) or contain_too_repeated_phrases(content):\n",
    "            add_flag=False\n",
    "            reject_list.append(content)\n",
    "            continue\n",
    "\n",
    "        for black_word in black_list:\n",
    "            if black_word in content:\n",
    "                add_flag=False\n",
    "                #print(\"------------removed \",black_word,content)\n",
    "                break\n",
    "        if add_flag:\n",
    "            if content.endswith(\"?\") or content.endswith(\"？\") or content.endswith(\"。\") \\\n",
    "                or content.endswith(\"！\") or content.endswith(\"!\") or content.endswith(\"」\") \\\n",
    "                    or content.endswith(\")\") or content.endswith(\"）\") or content.endswith('\"') \\\n",
    "                        or content.endswith(\"...\") or content.endswith(\"```\") or content.endswith(\"”\"):\n",
    "                pass\n",
    "            else:\n",
    "                pass\n",
    "                #print(\"*------------- \\n\",content[-100:])\n",
    "\n",
    "                            \n",
    "            #raise ValueError(\"\")\n",
    "        msg={\"role\":messages[\"role\"],\"content\":content}\n",
    "        translated_messages.append(msg)\n",
    "    if add_flag:\n",
    "        content_list.append({\"messages\":translated_messages})"
   ]
  },
  {
   "cell_type": "code",
   "execution_count": null,
   "metadata": {},
   "outputs": [
    {
     "data": {
      "text/plain": [
       "18843"
      ]
     },
     "execution_count": 38,
     "metadata": {},
     "output_type": "execute_result"
    }
   ],
   "source": [
    "len(reject_list)"
   ]
  },
  {
   "cell_type": "code",
   "execution_count": null,
   "metadata": {},
   "outputs": [
    {
     "data": {
      "text/plain": [
       "(True, False)"
      ]
     },
     "execution_count": 39,
     "metadata": {},
     "output_type": "execute_result"
    }
   ],
   "source": [
    "contain_too_repeated_phrases(reject_list[0]),contain_too_log_alphabets(reject_list[0])"
   ]
  },
  {
   "cell_type": "code",
   "execution_count": null,
   "metadata": {},
   "outputs": [
    {
     "data": {
      "text/plain": [
       "'パズルをステップバイステップで解いていきましょう：\\n\\n1. 土曜日を最初の行の最初のセルに配置します（ヒント1）。\\n2. 各日は各行および列ごとに一度だけ現れる必要がありますので、他の日にちが最初の列や最初の列に置かれることはありません。\\n3. 日曜日を直接日曜日の下に配置します（ヒント2）。日曜日は第二の行にあるため、土曜日は第一の行の最初の列にあります。したがって、日曜日は第一の行の第二または第三のセルに置く必要があります。もし日曜日が第ニ列の第一行にあった場合、月曜日は第ニ列の第二行にあり、これは火曜日が第ニ列にないことを違反することになります。したがって、日曜日は第一の行の第三のセルに位置し、月曜日も第二の行の第三のセルに位置する必要があります。\\n4. 今私たちは知っています。第二の行の第二列には火曜日を置くことができません（ヒント4）、そしてそれはすでに設置されている日曜日、月曜日、水曜日ではありえません。また、第一行の第一列にも置けません（なぜなら、そこには土曜日があるからです）。そのため、第二の行の第二列は金曜日か木曜日でなければなりません。\\n5. 三番目の行の三つ目のセルは金曜日ではない（ヒント3）ため、三番目の行に残っているのは木曜日と火曜日だけです。水曜日は木曜日には隣接できないため（ヒント5）、第三の行に木曜日は存在しません。したがって、三番目の行の三つ目の席は火曜日でなければならない。\\n6. 現在、以下のように配置されています：\\n   - 第一番目の行：[土曜日、？，日曜日]\\n   - 第二番目の行：[？、？、月曜日]\\n   - 第三番目の行：[？、？、火曜日]\\n\\n7. 水星人は火曜日や水星人とは隣接していない（ヒント5）ため、水星は第二番目の行の一番左の列にしか置けないことがわかります。水星が既に第一行の一番右の列にいるためです。したがって、水星は第一番目の行の左端の列に置かなければならず、水星人の位置が確定しました。\\n8. これで、以下のようになります：\\n   - 第一番目の行：[土曜日、？、日曜日]\\n   - 第二番目の行：[水曜日、金曜日、月曜日]\\n   - 第三番目の行：[？、？、火曜日]\\n\\n9. 第二の行の二番目の列には火曜日を置くことはできません（ヒント4）、そしてそれはすでに設置された日曜日、月曜日、水曜日、土曜日でもありません。したがって、第二の行の二番目の列は金曜日か木曜日であるべきです。しかし、三番目の行の三つ目が金曜日でないことから、金曜日は第二の行の二番目にしか置けません。したがって、第二の行の二番目の列は金曜日であり、三番目の行は次のように確定されます。\\n10. これにより、以下のようになります：\\n   - 第一番目の行：[土曜日、？、日曜日]\\n   - 第二番目の行：[水曜日、金曜日、月曜日]\\n   - 第三番目の行：[？、？、火曜日]\\n\\n11. 第二の行の二番目の列には火曜日を置くことはできません（ヒント4）、そしてそれはすでに設置された日曜日、月曜日、水曜日、土曜日でもないため、残りの候補は木曜日か金曜日のみです。しかし、三番目の行の三つ目が金曜日でないため、金曜日は第二の行の二番目にしか置けません。したがって、第二の行の二番目の列は金曜日であり、三番目の行は次のように確定されます。\\n12. よって、以下のようになります：\\n   - 第一番目の行：[土曜日、？、日曜日]\\n   - 第二番目の行：[水曜日、金曜日、月曜日]\\n   - 第三番目の行：[？、？、火曜日]\\n\\n13. 第三の行の三つのうちの一つ目の空欄には日曜日が残ります（他の全ての日は既に配置済みであるため、唯一残るのは日曜日です）。\\n   - 第一番目の行：[土曜日、？、日曜日]\\n   - 第二番目の行：[水曜日、金曜日、月曜日]\\n   - 第三番目の行：[？、？、火曜日]\\n\\n14. 第二の行の二番目の列には火曜日を置くことはできません（ヒント4）、そしてそれはすでに設置された日曜日、月曜日、水曜日、土曜日でもないため、残りの候補は木曜日か金曜日のみです。しかし、三番目の行の三つ目が金曜日でないため、金曜日は第二の行の二番目にしか置けません。したがって、第二の行の二番目の列は金曜日であり、三番目の行は次のように確定されます。\\n15. よって、以下のようになります：\\n   - 第一番目の行：[土曜日、？、日曜日]\\n   - 第二番目の行：[水曜日、金曜日、月曜日]\\n   - 第三番目の行：[？、？、火曜日]\\n\\n16. 水曜日は火曜日とも木曜日とも隣接することができないため、水曜日は第二番目の行の一列目に置くしかないことが判明しました。\\n17. これで、以下のようになります：\\n   - 第一番目の行：[土曜日、？、日曜日]\\n   - 第二番目の行：[水曜日、金曜日、月曜日]\\n   - 第三番目の行：[？、？、火曜日]\\n\\n18. 水曜日は火曜日とも木曜日とも隣接することはできず、残りの選択肢として第二番目の行に一列目に置くしかないことが判明しました。\\n19. これで、以下のようになります：\\n   - 第一番目の行：[土曜日、？、日曜日]\\n   - 第二番目の行：[水曜日、金曜日、月曜日]\\n   - 第三番目の行：[？、？、火曜日]\\n\\n20. 第二の行の一列目には金曜日が残る（土曜日、日曜日、月曜日、木曜日、水曜日は既に置かれているため、唯一残っているのは金曜日です）。\\n   - 第一番目の行：[土曜日、？、日曜日]\\n   - 第二番目の行：[水曜日、金曜日、月曜日]\\n   - 第三番目の行：[？、？、火曜日]\\n\\n21. 第二の行の二列目には月曜日が残り、これも正しい配置となります。\\n   - 第一番目の行：[土曜日、？、日曜日]\\n   - 第二番目の行：[水曜日、金曜日、月曜日]\\n   - 第三番目の行：[？、？、火曜日]\\n\\n22. 最終的にすべての行が正しく配置されましたが、第二の行の二番目のセルが月曜日になっていることに矛盾が生じてしまいました。このため、再度見直す必要があります。\\n\\n23. 月曜日が直接日曜日の下に来るように再評価すると、最初に配置した通り、第二の行の三番目のセルに月曜日を配置するのが正解でした。\\n24. 結果として、以下のようになります：\\n   - 第一番目の行：[土曜日、？、日曜日]\\n   - 第二番目の行：[水曜日、金曜日、月曜日]\\n   - 第三番目の行：[？、？、火曜日]\\n\\n25. 水曜日は火曜日とも木曜日とも隣接しないため、第二番目の行の一列目に置くのが唯一の選択です。\\n26. これで、以下のようになります：\\n   - 第一番目の行：[土曜日、？、日曜日]\\n   - 第二番目の行：[水曜日、金曜日、月曜日]\\n   - 第三番目の行：[？、？、火曜日]\\n\\n27. 金曜日を第三の行の三番目のセルに入れることはできません（ヒント3）。さらに、それは第一の行にはないため、第二の行の二番目のセルに配置される必要があります。\\n28. これで、以下のようになります：\\n   - 第一番目の行：[土曜日、？、日曜日]\\n   - 第二番目の行：[水曜日、金曜日、月曜日]\\n   - 第三番目の行：[日曜日、？、火曜日]\\n\\n29. 最後に残った空欄を埋めると、以下のようになります：\\n   - 第一番目の行：[土曜日、木曜日、日曜日]\\n   - 第二番目の行：[水曜日、金曜日、月曜日]\\n   - 第三番目の行：[日曜日、土曜日、火曜日]\\n\\nこれが最終的な解答です。'"
      ]
     },
     "execution_count": 40,
     "metadata": {},
     "output_type": "execute_result"
    }
   ],
   "source": [
    "reject_list[0]"
   ]
  },
  {
   "cell_type": "code",
   "execution_count": null,
   "metadata": {},
   "outputs": [
    {
     "data": {
      "text/plain": [
       "116741"
      ]
     },
     "execution_count": 41,
     "metadata": {},
     "output_type": "execute_result"
    }
   ],
   "source": [
    "import datasets\n",
    "tr_ds=datasets.Dataset.from_list(content_list)\n",
    "\n",
    "len(tr_ds)"
   ]
  },
  {
   "cell_type": "code",
   "execution_count": null,
   "metadata": {},
   "outputs": [
    {
     "name": "stderr",
     "output_type": "stream",
     "text": [
      "Creating parquet from Arrow format: 100%|██████████| 59/59 [00:00<00:00, 63.12ba/s]\n",
      "Creating parquet from Arrow format: 100%|██████████| 59/59 [00:01<00:00, 36.94ba/s]\n",
      "Uploading the dataset shards: 100%|██████████| 2/2 [05:09<00:00, 154.96s/it]\n"
     ]
    },
    {
     "data": {
      "text/plain": [
       "CommitInfo(commit_url='https://huggingface.co/datasets/kanhatakeyama/wizardlm8x22b-logical-math-coding-sft-ja/commit/482b60e212e4dd4de96011b396ccb298be1b33a5', commit_message='Upload dataset', commit_description='', oid='482b60e212e4dd4de96011b396ccb298be1b33a5', pr_url=None, pr_revision=None, pr_num=None)"
      ]
     },
     "execution_count": 42,
     "metadata": {},
     "output_type": "execute_result"
    }
   ],
   "source": [
    "tr_ds.push_to_hub(\"kanhatakeyama/wizardlm8x22b-logical-math-coding-sft-ja\")"
   ]
  },
  {
   "cell_type": "code",
   "execution_count": null,
   "metadata": {},
   "outputs": [],
   "source": []
  }
 ],
 "metadata": {
  "kernelspec": {
   "display_name": "llmeval",
   "language": "python",
   "name": "python3"
  },
  "language_info": {
   "codemirror_mode": {
    "name": "ipython",
    "version": 3
   },
   "file_extension": ".py",
   "mimetype": "text/x-python",
   "name": "python",
   "nbconvert_exporter": "python",
   "pygments_lexer": "ipython3",
   "version": "3.11.8"
  }
 },
 "nbformat": 4,
 "nbformat_minor": 2
}
